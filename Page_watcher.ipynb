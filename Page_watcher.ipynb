{
 "cells": [
  {
   "cell_type": "markdown",
   "metadata": {},
   "source": [
    "# Lydia link watcher"
   ]
  },
  {
   "cell_type": "markdown",
   "metadata": {},
   "source": [
    "The second tool needed to automate a shotgun from a lydia collect form is to be able to watch an internet page and watch for a collect link popping ! "
   ]
  },
  {
   "cell_type": "markdown",
   "metadata": {},
   "source": [
    "-  I think that most events people apply on Lydia pop on facebook, so I will look for a **Facebook** page watcher. \n",
    "\n",
    "-  I will use selenium and a webdriver for this one too. "
   ]
  },
  {
   "cell_type": "code",
   "execution_count": 2,
   "metadata": {},
   "outputs": [],
   "source": [
    "from selenium import webdriver\n",
    "from selenium.webdriver.common.keys import Keys #used to simulate some keyboard keys (Alt, Tab, etc.)\n",
    "from selenium.webdriver.common.by import By #used to locate elements on website\n",
    "import time\n",
    "\n",
    "from selenium.webdriver.chrome.options import Options #We need this to prevent notifications and pop-ups"
   ]
  },
  {
   "cell_type": "markdown",
   "metadata": {},
   "source": [
    "We'll first need to login in facebook\n",
    "\n",
    "-> Let's get our credentials"
   ]
  },
  {
   "cell_type": "code",
   "execution_count": 6,
   "metadata": {},
   "outputs": [],
   "source": [
    "user = os.getenv(\"fb_user\")\n",
    "pwd = os.getenv(\"fb_pwd\")"
   ]
  },
  {
   "attachments": {},
   "cell_type": "markdown",
   "metadata": {},
   "source": [
    "Then, let's launch our web browser.\n",
    "\n",
    "- We first define our options in order to block any pop-up"
   ]
  },
  {
   "cell_type": "code",
   "execution_count": 3,
   "metadata": {},
   "outputs": [
    {
     "name": "stderr",
     "output_type": "stream",
     "text": [
      "/var/folders/f9/pyjz1fyn319c79776sblqzp00000gn/T/ipykernel_31924/4134006082.py:12: DeprecationWarning: executable_path has been deprecated, please pass in a Service object\n",
      "  driver = webdriver.Chrome(chrome_options=option, executable_path='/Users/hugocaetano/Desktop/lydia_collect_automator/chromedriver')\n",
      "/var/folders/f9/pyjz1fyn319c79776sblqzp00000gn/T/ipykernel_31924/4134006082.py:12: DeprecationWarning: use options instead of chrome_options\n",
      "  driver = webdriver.Chrome(chrome_options=option, executable_path='/Users/hugocaetano/Desktop/lydia_collect_automator/chromedriver')\n"
     ]
    }
   ],
   "source": [
    "option = Options()\n",
    "\n",
    "option.add_argument(\"--disable-infobars\")\n",
    "option.add_argument(\"start-maximized\")\n",
    "option.add_argument(\"--disable-extensions\")\n",
    "\n",
    "# Pass the argument 1 to allow and 2 to block\n",
    "option.add_experimental_option(\"prefs\", { \n",
    "    \"profile.default_content_setting_values.notifications\": 2\n",
    "})\n",
    "\n",
    "driver = webdriver.Chrome(chrome_options=option, executable_path='/Users/hugocaetano/Desktop/lydia_collect_automator/chromedriver')\n",
    "driver.get('https://fb.me/e/50Ng5qZUt') "
   ]
  },
  {
   "attachments": {},
   "cell_type": "markdown",
   "metadata": {},
   "source": [
    "We need to accept the cookies..."
   ]
  },
  {
   "cell_type": "code",
   "execution_count": 4,
   "metadata": {},
   "outputs": [],
   "source": [
    "cook = driver.find_element(By.XPATH, \"//button[@data-cookiebanner='accept_only_essential_button']\")\n",
    "cook.click()"
   ]
  },
  {
   "cell_type": "code",
   "execution_count": 7,
   "metadata": {},
   "outputs": [],
   "source": [
    "mail = driver.find_element(By.ID, \"email\")\n",
    "password = driver.find_element(By.ID, \"pass\")\n",
    "mail.send_keys(user)\n",
    "password.send_keys(pwd)"
   ]
  },
  {
   "attachments": {},
   "cell_type": "markdown",
   "metadata": {},
   "source": [
    "Now we just need to click ! "
   ]
  },
  {
   "cell_type": "code",
   "execution_count": 8,
   "metadata": {},
   "outputs": [],
   "source": [
    "clicker = driver.find_element(By.XPATH, \"//input[@value='Se connecter']\") #actually this id changes each time so I need another solution...\n",
    "clicker.click() "
   ]
  },
  {
   "attachments": {},
   "cell_type": "markdown",
   "metadata": {},
   "source": [
    "> After this step we are totally logged in. Note that we could totally input manually our username / password, but doing everything automatically is a good habit I think"
   ]
  },
  {
   "attachments": {},
   "cell_type": "markdown",
   "metadata": {},
   "source": [
    "- Well, now we need to know how to locate a post with a collect link. \n",
    "\n",
    "- Then, we'll need to know how to refresh a page and watch for a link in the 3 last posts for example. "
   ]
  },
  {
   "attachments": {},
   "cell_type": "markdown",
   "metadata": {},
   "source": [
    "## Step 1 : Locate element where collect.io in post"
   ]
  },
  {
   "cell_type": "code",
   "execution_count": 19,
   "metadata": {},
   "outputs": [],
   "source": [
    "lydia_post = driver.find_element(By.CSS_SELECTOR, \"a[href*='collecte.io']\") #here we goooooo :)"
   ]
  },
  {
   "cell_type": "code",
   "execution_count": 21,
   "metadata": {},
   "outputs": [],
   "source": [
    "lydia_post.click()"
   ]
  },
  {
   "cell_type": "code",
   "execution_count": 11,
   "metadata": {},
   "outputs": [],
   "source": [
    "driver.close()"
   ]
  },
  {
   "attachments": {},
   "cell_type": "markdown",
   "metadata": {},
   "source": [
    "Ok, well step 1 was quick. Now we need to look for this link...\n",
    "\n",
    "I'm thinking of a multiple steps function process : \n",
    "- The function would receive as input : \n",
    "    - A time duration during which the bot would look for the link (it can be 1min for example)\n",
    "    - A time step to refresh the page (being let's say 3 seconds by default (but the page needs to load...))\n",
    "    - The facebook page we need to look for\n",
    "- Then, the function would do : \n",
    "    - Try except find element with collect.io.\n",
    "    - Wait step time\n",
    "    - Repeat until time duration is over.\n",
    "\n",
    "The only thing we have to check is if we can look if an element with a collect link exists quickly enough. Actually I tried and it takes no time ! So let's do this final step !"
   ]
  },
  {
   "cell_type": "code",
   "execution_count": 28,
   "metadata": {},
   "outputs": [],
   "source": [
    "from selenium.common.exceptions import NoSuchElementException #to try and catch the error we need to import it !"
   ]
  },
  {
   "attachments": {},
   "cell_type": "markdown",
   "metadata": {},
   "source": [
    "The case where it doesn't work"
   ]
  },
  {
   "cell_type": "code",
   "execution_count": 29,
   "metadata": {},
   "outputs": [
    {
     "name": "stdout",
     "output_type": "stream",
     "text": [
      "The link you provided was not found\n"
     ]
    }
   ],
   "source": [
    "try :\n",
    "    driver.find_element(By.CSS_SELECTOR, \"a[href*='doesntexist']\")\n",
    "except NoSuchElementException : \n",
    "    print(\"The link you provided was not found.\")\n"
   ]
  },
  {
   "attachments": {},
   "cell_type": "markdown",
   "metadata": {},
   "source": [
    "The case where it works\n"
   ]
  },
  {
   "cell_type": "code",
   "execution_count": 32,
   "metadata": {},
   "outputs": [],
   "source": [
    "try : \n",
    "    lydia = driver.find_element(By.CSS_SELECTOR, \"a[href*='collecte.io']\")\n",
    "except NoSuchElementException :\n",
    "    print(\"The link you provided was not found.\")"
   ]
  },
  {
   "cell_type": "code",
   "execution_count": 59,
   "metadata": {},
   "outputs": [],
   "source": [
    "def pagewatcher(waitingtime = 90, step = 5, link = \"collecte.io\", driver = driver) :\n",
    "    \"\"\"This function looks \"\"\"\n",
    "    time0 = time.time()\n",
    "    while time.time() - time0 < waitingtime :\n",
    "        try : \n",
    "            lydia = driver.find_element(By.CSS_SELECTOR, \"a[href*='\" + link + \"']\").click()\n",
    "            print(\"the link is clicked on\")#Here we would call the lydia form filler function but we need to make it work together first\n",
    "            m = 1\n",
    "            break #if we find the link, stop looking for it \n",
    "        except NoSuchElementException :\n",
    "            print(\"The link you provided was not found.\")\n",
    "            m = 2\n",
    "            driver.refresh() #if we don't refresh, we won't see the new posts\n",
    "        time.sleep(step)\n",
    "    if m == 1 :\n",
    "        print(\"it seems like we can complete the form\")\n",
    "    elif m == 2 : \n",
    "        print(\"The link was never found\")"
   ]
  },
  {
   "cell_type": "code",
   "execution_count": 62,
   "metadata": {},
   "outputs": [],
   "source": [
    "driver.refresh()"
   ]
  },
  {
   "cell_type": "code",
   "execution_count": 63,
   "metadata": {},
   "outputs": [
    {
     "name": "stdout",
     "output_type": "stream",
     "text": [
      "The link you provided was not found.\n",
      "The link you provided was not found.\n",
      "The link you provided was not found.\n",
      "The link you provided was not found.\n",
      "the link is clicked on\n",
      "it seems like we can complete the form\n"
     ]
    }
   ],
   "source": [
    "pagewatcher()"
   ]
  },
  {
   "attachments": {},
   "cell_type": "markdown",
   "metadata": {},
   "source": [
    "Ok, this works so well !"
   ]
  },
  {
   "cell_type": "code",
   "execution_count": 55,
   "metadata": {},
   "outputs": [],
   "source": [
    "driver.close()"
   ]
  },
  {
   "cell_type": "code",
   "execution_count": 10,
   "metadata": {},
   "outputs": [],
   "source": [
    "lydia = driver.find_element(By.CSS_SELECTOR, \"a[href*='\" + \"collecte.io\" + \"']\")"
   ]
  },
  {
   "cell_type": "code",
   "execution_count": 12,
   "metadata": {},
   "outputs": [
    {
     "data": {
      "text/plain": [
       "'https://l.facebook.com/l.php?u=https%3A%2F%2Fcollecte.io%2Fsimulation-de-sat-2231239%2Ffr%3Ffbclid%3DIwAR242T1u8_GpYkofJxPJ5EZb_l0ffKgSmvKbn1uUJIT-pwHYstYjQOVXne0&h=AT3wQu7zFC_aU6VptTe7lPk7zAJunTFzWlylc75TkEkt4ES6fV8lqjUU-6RXv6RPrHOmogBWciwShVbOhB7AUZbMaUQ7xQt6Ty-XW3dbg1ajtNnINoEGnSIvMOOoO-hSlDpz9Zn7Ew&__tn__=-UK-R&c[0]=AT3tkyyR428EshsA-FsXVsG87o9LRkuR86pRtnQHMb6PRIt4HLMSwbEOUgBkOJIlg89kz_adlUFYBtmmPlIk9rUnk3rPoIb_eJOAKHrzDaIrE-UEsvEKt7VHYVMmu0GBpKNmg9bt0shRkQwoCa2yWoOftWG9'"
      ]
     },
     "execution_count": 12,
     "metadata": {},
     "output_type": "execute_result"
    }
   ],
   "source": [
    "lydia.get_attribute(\"href\")"
   ]
  },
  {
   "cell_type": "code",
   "execution_count": null,
   "metadata": {},
   "outputs": [],
   "source": [
    "lydia_dr = driver.get(lydia.get_attribute(\"href\"))"
   ]
  }
 ],
 "metadata": {
  "kernelspec": {
   "display_name": "base",
   "language": "python",
   "name": "python3"
  },
  "language_info": {
   "codemirror_mode": {
    "name": "ipython",
    "version": 3
   },
   "file_extension": ".py",
   "mimetype": "text/x-python",
   "name": "python",
   "nbconvert_exporter": "python",
   "pygments_lexer": "ipython3",
   "version": "3.9.12 (main, Apr  5 2022, 01:53:17) \n[Clang 12.0.0 ]"
  },
  "orig_nbformat": 4,
  "vscode": {
   "interpreter": {
    "hash": "dcf4af17562eeb53ef143539da559a33e2f66ff0e7e3d9137883e45629e5db4e"
   }
  }
 },
 "nbformat": 4,
 "nbformat_minor": 2
}
