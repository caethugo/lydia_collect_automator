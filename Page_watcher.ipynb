{
 "cells": [
  {
   "cell_type": "markdown",
   "metadata": {},
   "source": [
    "# Lydia link watcher"
   ]
  },
  {
   "cell_type": "markdown",
   "metadata": {},
   "source": [
    "The second tool needed to automate a shotgun from a lydia collect form is to be able to watch an internet page and watch for a collect link popping ! "
   ]
  },
  {
   "cell_type": "markdown",
   "metadata": {},
   "source": [
    "-  I think that most events people apply on Lydia pop on facebook, so I will look for a **Facebook** page watcher. \n",
    "\n",
    "-  I will use selenium and a webdriver for this one too. "
   ]
  },
  {
   "cell_type": "code",
   "execution_count": 7,
   "metadata": {},
   "outputs": [],
   "source": [
    "from selenium import webdriver\n",
    "from selenium.webdriver.common.keys import Keys #used to simulate some keyboard keys (Alt, Tab, etc.)\n",
    "from selenium.webdriver.common.by import By #used to locate elements on website\n",
    "import time"
   ]
  },
  {
   "cell_type": "markdown",
   "metadata": {},
   "source": [
    "We'll first need to login in facebook\n",
    "\n",
    "-> Let's get our credentials"
   ]
  },
  {
   "cell_type": "code",
   "execution_count": 1,
   "metadata": {},
   "outputs": [],
   "source": [
    "user = os.getenv(\"fb_user\")\n",
    "pwd = os.getenv(\"fb_pwd\")"
   ]
  },
  {
   "cell_type": "code",
   "execution_count": 56,
   "metadata": {},
   "outputs": [
    {
     "name": "stderr",
     "output_type": "stream",
     "text": [
      "/var/folders/f9/pyjz1fyn319c79776sblqzp00000gn/T/ipykernel_20686/1520389742.py:1: DeprecationWarning: executable_path has been deprecated, please pass in a Service object\n",
      "  driver = webdriver.Chrome(executable_path=\"/Users/hugocaetano/Desktop/lydia_collect_automator/chromedriver\")\n"
     ]
    }
   ],
   "source": [
    "driver = webdriver.Chrome(executable_path=\"/Users/hugocaetano/Desktop/lydia_collect_automator/chromedriver\")\n",
    "driver.get('https://fb.me/e/50Ng5qZUt') "
   ]
  },
  {
   "attachments": {},
   "cell_type": "markdown",
   "metadata": {},
   "source": [
    "We need to accept the cookies..."
   ]
  },
  {
   "cell_type": "code",
   "execution_count": 57,
   "metadata": {},
   "outputs": [
    {
     "ename": "NoSuchElementException",
     "evalue": "Message: no such element: Unable to locate element: {\"method\":\"css selector\",\"selector\":\"[id=\"u_0_e_22\"]\"}\n  (Session info: chrome=108.0.5359.98)\nStacktrace:\n0   chromedriver                        0x0000000107faf2c8 chromedriver + 4752072\n1   chromedriver                        0x0000000107f2f463 chromedriver + 4228195\n2   chromedriver                        0x0000000107b92b18 chromedriver + 441112\n3   chromedriver                        0x0000000107bcfe21 chromedriver + 691745\n4   chromedriver                        0x0000000107bd0061 chromedriver + 692321\n5   chromedriver                        0x0000000107c0b5e4 chromedriver + 935396\n6   chromedriver                        0x0000000107bf0d2d chromedriver + 826669\n7   chromedriver                        0x0000000107c09134 chromedriver + 926004\n8   chromedriver                        0x0000000107bf0b33 chromedriver + 826163\n9   chromedriver                        0x0000000107bc19fd chromedriver + 633341\n10  chromedriver                        0x0000000107bc3051 chromedriver + 639057\n11  chromedriver                        0x0000000107f7c30e chromedriver + 4543246\n12  chromedriver                        0x0000000107f80a88 chromedriver + 4561544\n13  chromedriver                        0x0000000107f886df chromedriver + 4593375\n14  chromedriver                        0x0000000107f818fa chromedriver + 4565242\n15  chromedriver                        0x0000000107f572cf chromedriver + 4391631\n16  chromedriver                        0x0000000107fa05b8 chromedriver + 4691384\n17  chromedriver                        0x0000000107fa0739 chromedriver + 4691769\n18  chromedriver                        0x0000000107fb681e chromedriver + 4782110\n19  libsystem_pthread.dylib             0x00007ff812c464e1 _pthread_start + 125\n20  libsystem_pthread.dylib             0x00007ff812c41f6b thread_start + 15\n",
     "output_type": "error",
     "traceback": [
      "\u001b[0;31m---------------------------------------------------------------------------\u001b[0m",
      "\u001b[0;31mNoSuchElementException\u001b[0m                    Traceback (most recent call last)",
      "Cell \u001b[0;32mIn [57], line 1\u001b[0m\n\u001b[0;32m----> 1\u001b[0m cook \u001b[39m=\u001b[39m driver\u001b[39m.\u001b[39;49mfind_element(By\u001b[39m.\u001b[39;49mID, \u001b[39m\"\u001b[39;49m\u001b[39mu_0_e_22\u001b[39;49m\u001b[39m\"\u001b[39;49m)\n\u001b[1;32m      2\u001b[0m cook\u001b[39m.\u001b[39mclick()\n",
      "File \u001b[0;32m/usr/local/lib/python3.10/site-packages/selenium/webdriver/remote/webdriver.py:861\u001b[0m, in \u001b[0;36mWebDriver.find_element\u001b[0;34m(self, by, value)\u001b[0m\n\u001b[1;32m    858\u001b[0m     by \u001b[39m=\u001b[39m By\u001b[39m.\u001b[39mCSS_SELECTOR\n\u001b[1;32m    859\u001b[0m     value \u001b[39m=\u001b[39m \u001b[39m'\u001b[39m\u001b[39m[name=\u001b[39m\u001b[39m\"\u001b[39m\u001b[39m%s\u001b[39;00m\u001b[39m\"\u001b[39m\u001b[39m]\u001b[39m\u001b[39m'\u001b[39m \u001b[39m%\u001b[39m value\n\u001b[0;32m--> 861\u001b[0m \u001b[39mreturn\u001b[39;00m \u001b[39mself\u001b[39;49m\u001b[39m.\u001b[39;49mexecute(Command\u001b[39m.\u001b[39;49mFIND_ELEMENT, {\u001b[39m\"\u001b[39;49m\u001b[39musing\u001b[39;49m\u001b[39m\"\u001b[39;49m: by, \u001b[39m\"\u001b[39;49m\u001b[39mvalue\u001b[39;49m\u001b[39m\"\u001b[39;49m: value})[\u001b[39m\"\u001b[39m\u001b[39mvalue\u001b[39m\u001b[39m\"\u001b[39m]\n",
      "File \u001b[0;32m/usr/local/lib/python3.10/site-packages/selenium/webdriver/remote/webdriver.py:444\u001b[0m, in \u001b[0;36mWebDriver.execute\u001b[0;34m(self, driver_command, params)\u001b[0m\n\u001b[1;32m    442\u001b[0m response \u001b[39m=\u001b[39m \u001b[39mself\u001b[39m\u001b[39m.\u001b[39mcommand_executor\u001b[39m.\u001b[39mexecute(driver_command, params)\n\u001b[1;32m    443\u001b[0m \u001b[39mif\u001b[39;00m response:\n\u001b[0;32m--> 444\u001b[0m     \u001b[39mself\u001b[39;49m\u001b[39m.\u001b[39;49merror_handler\u001b[39m.\u001b[39;49mcheck_response(response)\n\u001b[1;32m    445\u001b[0m     response[\u001b[39m\"\u001b[39m\u001b[39mvalue\u001b[39m\u001b[39m\"\u001b[39m] \u001b[39m=\u001b[39m \u001b[39mself\u001b[39m\u001b[39m.\u001b[39m_unwrap_value(response\u001b[39m.\u001b[39mget(\u001b[39m\"\u001b[39m\u001b[39mvalue\u001b[39m\u001b[39m\"\u001b[39m, \u001b[39mNone\u001b[39;00m))\n\u001b[1;32m    446\u001b[0m     \u001b[39mreturn\u001b[39;00m response\n",
      "File \u001b[0;32m/usr/local/lib/python3.10/site-packages/selenium/webdriver/remote/errorhandler.py:249\u001b[0m, in \u001b[0;36mErrorHandler.check_response\u001b[0;34m(self, response)\u001b[0m\n\u001b[1;32m    247\u001b[0m         alert_text \u001b[39m=\u001b[39m value[\u001b[39m\"\u001b[39m\u001b[39malert\u001b[39m\u001b[39m\"\u001b[39m]\u001b[39m.\u001b[39mget(\u001b[39m\"\u001b[39m\u001b[39mtext\u001b[39m\u001b[39m\"\u001b[39m)\n\u001b[1;32m    248\u001b[0m     \u001b[39mraise\u001b[39;00m exception_class(message, screen, stacktrace, alert_text)  \u001b[39m# type: ignore[call-arg]  # mypy is not smart enough here\u001b[39;00m\n\u001b[0;32m--> 249\u001b[0m \u001b[39mraise\u001b[39;00m exception_class(message, screen, stacktrace)\n",
      "\u001b[0;31mNoSuchElementException\u001b[0m: Message: no such element: Unable to locate element: {\"method\":\"css selector\",\"selector\":\"[id=\"u_0_e_22\"]\"}\n  (Session info: chrome=108.0.5359.98)\nStacktrace:\n0   chromedriver                        0x0000000107faf2c8 chromedriver + 4752072\n1   chromedriver                        0x0000000107f2f463 chromedriver + 4228195\n2   chromedriver                        0x0000000107b92b18 chromedriver + 441112\n3   chromedriver                        0x0000000107bcfe21 chromedriver + 691745\n4   chromedriver                        0x0000000107bd0061 chromedriver + 692321\n5   chromedriver                        0x0000000107c0b5e4 chromedriver + 935396\n6   chromedriver                        0x0000000107bf0d2d chromedriver + 826669\n7   chromedriver                        0x0000000107c09134 chromedriver + 926004\n8   chromedriver                        0x0000000107bf0b33 chromedriver + 826163\n9   chromedriver                        0x0000000107bc19fd chromedriver + 633341\n10  chromedriver                        0x0000000107bc3051 chromedriver + 639057\n11  chromedriver                        0x0000000107f7c30e chromedriver + 4543246\n12  chromedriver                        0x0000000107f80a88 chromedriver + 4561544\n13  chromedriver                        0x0000000107f886df chromedriver + 4593375\n14  chromedriver                        0x0000000107f818fa chromedriver + 4565242\n15  chromedriver                        0x0000000107f572cf chromedriver + 4391631\n16  chromedriver                        0x0000000107fa05b8 chromedriver + 4691384\n17  chromedriver                        0x0000000107fa0739 chromedriver + 4691769\n18  chromedriver                        0x0000000107fb681e chromedriver + 4782110\n19  libsystem_pthread.dylib             0x00007ff812c464e1 _pthread_start + 125\n20  libsystem_pthread.dylib             0x00007ff812c41f6b thread_start + 15\n"
     ]
    }
   ],
   "source": [
    "cook = driver.find_element(By.ID, \"u_0_e_22\")\n",
    "cook.click()"
   ]
  },
  {
   "cell_type": "code",
   "execution_count": 46,
   "metadata": {},
   "outputs": [],
   "source": [
    "mail = driver.find_element(By.ID, \"email\")\n",
    "password = driver.find_element(By.ID, \"pass\")\n",
    "mail.send_keys(user)\n",
    "password.send_keys(pwd)"
   ]
  },
  {
   "attachments": {},
   "cell_type": "markdown",
   "metadata": {},
   "source": [
    "Now we just need to click ! "
   ]
  },
  {
   "cell_type": "code",
   "execution_count": 47,
   "metadata": {},
   "outputs": [
    {
     "ename": "NoSuchElementException",
     "evalue": "Message: no such element: Unable to locate element: {\"method\":\"css selector\",\"selector\":\"[id=\"u_0_0_SM\"]\"}\n  (Session info: chrome=108.0.5359.98)\nStacktrace:\n0   chromedriver                        0x0000000108a8c2c8 chromedriver + 4752072\n1   chromedriver                        0x0000000108a0c463 chromedriver + 4228195\n2   chromedriver                        0x000000010866fb18 chromedriver + 441112\n3   chromedriver                        0x00000001086ace21 chromedriver + 691745\n4   chromedriver                        0x00000001086ad061 chromedriver + 692321\n5   chromedriver                        0x00000001086e85e4 chromedriver + 935396\n6   chromedriver                        0x00000001086cdd2d chromedriver + 826669\n7   chromedriver                        0x00000001086e6134 chromedriver + 926004\n8   chromedriver                        0x00000001086cdb33 chromedriver + 826163\n9   chromedriver                        0x000000010869e9fd chromedriver + 633341\n10  chromedriver                        0x00000001086a0051 chromedriver + 639057\n11  chromedriver                        0x0000000108a5930e chromedriver + 4543246\n12  chromedriver                        0x0000000108a5da88 chromedriver + 4561544\n13  chromedriver                        0x0000000108a656df chromedriver + 4593375\n14  chromedriver                        0x0000000108a5e8fa chromedriver + 4565242\n15  chromedriver                        0x0000000108a342cf chromedriver + 4391631\n16  chromedriver                        0x0000000108a7d5b8 chromedriver + 4691384\n17  chromedriver                        0x0000000108a7d739 chromedriver + 4691769\n18  chromedriver                        0x0000000108a9381e chromedriver + 4782110\n19  libsystem_pthread.dylib             0x00007ff812c464e1 _pthread_start + 125\n20  libsystem_pthread.dylib             0x00007ff812c41f6b thread_start + 15\n",
     "output_type": "error",
     "traceback": [
      "\u001b[0;31m---------------------------------------------------------------------------\u001b[0m",
      "\u001b[0;31mNoSuchElementException\u001b[0m                    Traceback (most recent call last)",
      "Cell \u001b[0;32mIn [47], line 1\u001b[0m\n\u001b[0;32m----> 1\u001b[0m clicker \u001b[39m=\u001b[39m driver\u001b[39m.\u001b[39;49mfind_element(By\u001b[39m.\u001b[39;49mID, \u001b[39m\"\u001b[39;49m\u001b[39mu_0_0_SM\u001b[39;49m\u001b[39m\"\u001b[39;49m)\n\u001b[1;32m      2\u001b[0m clicker\u001b[39m.\u001b[39mclick() \n",
      "File \u001b[0;32m/usr/local/lib/python3.10/site-packages/selenium/webdriver/remote/webdriver.py:861\u001b[0m, in \u001b[0;36mWebDriver.find_element\u001b[0;34m(self, by, value)\u001b[0m\n\u001b[1;32m    858\u001b[0m     by \u001b[39m=\u001b[39m By\u001b[39m.\u001b[39mCSS_SELECTOR\n\u001b[1;32m    859\u001b[0m     value \u001b[39m=\u001b[39m \u001b[39m'\u001b[39m\u001b[39m[name=\u001b[39m\u001b[39m\"\u001b[39m\u001b[39m%s\u001b[39;00m\u001b[39m\"\u001b[39m\u001b[39m]\u001b[39m\u001b[39m'\u001b[39m \u001b[39m%\u001b[39m value\n\u001b[0;32m--> 861\u001b[0m \u001b[39mreturn\u001b[39;00m \u001b[39mself\u001b[39;49m\u001b[39m.\u001b[39;49mexecute(Command\u001b[39m.\u001b[39;49mFIND_ELEMENT, {\u001b[39m\"\u001b[39;49m\u001b[39musing\u001b[39;49m\u001b[39m\"\u001b[39;49m: by, \u001b[39m\"\u001b[39;49m\u001b[39mvalue\u001b[39;49m\u001b[39m\"\u001b[39;49m: value})[\u001b[39m\"\u001b[39m\u001b[39mvalue\u001b[39m\u001b[39m\"\u001b[39m]\n",
      "File \u001b[0;32m/usr/local/lib/python3.10/site-packages/selenium/webdriver/remote/webdriver.py:444\u001b[0m, in \u001b[0;36mWebDriver.execute\u001b[0;34m(self, driver_command, params)\u001b[0m\n\u001b[1;32m    442\u001b[0m response \u001b[39m=\u001b[39m \u001b[39mself\u001b[39m\u001b[39m.\u001b[39mcommand_executor\u001b[39m.\u001b[39mexecute(driver_command, params)\n\u001b[1;32m    443\u001b[0m \u001b[39mif\u001b[39;00m response:\n\u001b[0;32m--> 444\u001b[0m     \u001b[39mself\u001b[39;49m\u001b[39m.\u001b[39;49merror_handler\u001b[39m.\u001b[39;49mcheck_response(response)\n\u001b[1;32m    445\u001b[0m     response[\u001b[39m\"\u001b[39m\u001b[39mvalue\u001b[39m\u001b[39m\"\u001b[39m] \u001b[39m=\u001b[39m \u001b[39mself\u001b[39m\u001b[39m.\u001b[39m_unwrap_value(response\u001b[39m.\u001b[39mget(\u001b[39m\"\u001b[39m\u001b[39mvalue\u001b[39m\u001b[39m\"\u001b[39m, \u001b[39mNone\u001b[39;00m))\n\u001b[1;32m    446\u001b[0m     \u001b[39mreturn\u001b[39;00m response\n",
      "File \u001b[0;32m/usr/local/lib/python3.10/site-packages/selenium/webdriver/remote/errorhandler.py:249\u001b[0m, in \u001b[0;36mErrorHandler.check_response\u001b[0;34m(self, response)\u001b[0m\n\u001b[1;32m    247\u001b[0m         alert_text \u001b[39m=\u001b[39m value[\u001b[39m\"\u001b[39m\u001b[39malert\u001b[39m\u001b[39m\"\u001b[39m]\u001b[39m.\u001b[39mget(\u001b[39m\"\u001b[39m\u001b[39mtext\u001b[39m\u001b[39m\"\u001b[39m)\n\u001b[1;32m    248\u001b[0m     \u001b[39mraise\u001b[39;00m exception_class(message, screen, stacktrace, alert_text)  \u001b[39m# type: ignore[call-arg]  # mypy is not smart enough here\u001b[39;00m\n\u001b[0;32m--> 249\u001b[0m \u001b[39mraise\u001b[39;00m exception_class(message, screen, stacktrace)\n",
      "\u001b[0;31mNoSuchElementException\u001b[0m: Message: no such element: Unable to locate element: {\"method\":\"css selector\",\"selector\":\"[id=\"u_0_0_SM\"]\"}\n  (Session info: chrome=108.0.5359.98)\nStacktrace:\n0   chromedriver                        0x0000000108a8c2c8 chromedriver + 4752072\n1   chromedriver                        0x0000000108a0c463 chromedriver + 4228195\n2   chromedriver                        0x000000010866fb18 chromedriver + 441112\n3   chromedriver                        0x00000001086ace21 chromedriver + 691745\n4   chromedriver                        0x00000001086ad061 chromedriver + 692321\n5   chromedriver                        0x00000001086e85e4 chromedriver + 935396\n6   chromedriver                        0x00000001086cdd2d chromedriver + 826669\n7   chromedriver                        0x00000001086e6134 chromedriver + 926004\n8   chromedriver                        0x00000001086cdb33 chromedriver + 826163\n9   chromedriver                        0x000000010869e9fd chromedriver + 633341\n10  chromedriver                        0x00000001086a0051 chromedriver + 639057\n11  chromedriver                        0x0000000108a5930e chromedriver + 4543246\n12  chromedriver                        0x0000000108a5da88 chromedriver + 4561544\n13  chromedriver                        0x0000000108a656df chromedriver + 4593375\n14  chromedriver                        0x0000000108a5e8fa chromedriver + 4565242\n15  chromedriver                        0x0000000108a342cf chromedriver + 4391631\n16  chromedriver                        0x0000000108a7d5b8 chromedriver + 4691384\n17  chromedriver                        0x0000000108a7d739 chromedriver + 4691769\n18  chromedriver                        0x0000000108a9381e chromedriver + 4782110\n19  libsystem_pthread.dylib             0x00007ff812c464e1 _pthread_start + 125\n20  libsystem_pthread.dylib             0x00007ff812c41f6b thread_start + 15\n"
     ]
    }
   ],
   "source": [
    "clicker = driver.find_element(By.ID, \"u_0_0_SM\") #actually this id changes each time so I need another solution...\n",
    "clicker.click() "
   ]
  },
  {
   "attachments": {},
   "cell_type": "markdown",
   "metadata": {},
   "source": [
    "> After this step we are totally logged in. Note that we could totally input manually our username / password, but doing everything automatically is a good habit I think"
   ]
  },
  {
   "attachments": {},
   "cell_type": "markdown",
   "metadata": {},
   "source": [
    "- Well, now we need to know how to locate a post with a collect link. \n",
    "\n",
    "- Then, we'll need to know how to refresh a page and watch for a link in the 3 last posts for example. "
   ]
  },
  {
   "attachments": {},
   "cell_type": "markdown",
   "metadata": {},
   "source": [
    "## Step 1 : Locate element where collect.io in post"
   ]
  },
  {
   "cell_type": "code",
   "execution_count": 19,
   "metadata": {},
   "outputs": [],
   "source": [
    "lydia_post = driver.find_element(By.CSS_SELECTOR, \"a[href*='collecte.io']\") #here we goooooo :)"
   ]
  },
  {
   "cell_type": "code",
   "execution_count": 21,
   "metadata": {},
   "outputs": [],
   "source": [
    "lydia_post.click()"
   ]
  },
  {
   "cell_type": "code",
   "execution_count": 11,
   "metadata": {},
   "outputs": [],
   "source": [
    "driver.close()"
   ]
  },
  {
   "attachments": {},
   "cell_type": "markdown",
   "metadata": {},
   "source": [
    "Ok, well step 1 was quick. Now we need to look for this link...\n",
    "\n",
    "I'm thinking of a multiple steps function process : \n",
    "- The function would receive as input : \n",
    "    - A time duration during which the bot would look for the link (it can be 1min for example)\n",
    "    - A time step to refresh the page (being let's say 3 seconds by default (but the page needs to load...))\n",
    "    - The facebook page we need to look for\n",
    "- Then, the function would do : \n",
    "    - Try except find element with collect.io.\n",
    "    - Wait step time\n",
    "    - Repeat until time duration is over.\n",
    "\n",
    "The only thing we have to check is if we can look if an element with a collect link exists quickly enough. Actually I tried and it takes no time ! So let's do this final step !"
   ]
  },
  {
   "cell_type": "code",
   "execution_count": 28,
   "metadata": {},
   "outputs": [],
   "source": [
    "from selenium.common.exceptions import NoSuchElementException #to try and catch the error we need to import it !"
   ]
  },
  {
   "attachments": {},
   "cell_type": "markdown",
   "metadata": {},
   "source": [
    "The case where it doesn't work"
   ]
  },
  {
   "cell_type": "code",
   "execution_count": 29,
   "metadata": {},
   "outputs": [
    {
     "name": "stdout",
     "output_type": "stream",
     "text": [
      "The link you provided was not found\n"
     ]
    }
   ],
   "source": [
    "try :\n",
    "    driver.find_element(By.CSS_SELECTOR, \"a[href*='doesntexist']\")\n",
    "except NoSuchElementException : \n",
    "    print(\"The link you provided was not found.\")\n"
   ]
  },
  {
   "attachments": {},
   "cell_type": "markdown",
   "metadata": {},
   "source": [
    "The case where it works\n"
   ]
  },
  {
   "cell_type": "code",
   "execution_count": 32,
   "metadata": {},
   "outputs": [],
   "source": [
    "try : \n",
    "    lydia = driver.find_element(By.CSS_SELECTOR, \"a[href*='collecte.io']\")\n",
    "except NoSuchElementException :\n",
    "    print(\"The link you provided was not found.\")"
   ]
  },
  {
   "cell_type": "code",
   "execution_count": 59,
   "metadata": {},
   "outputs": [],
   "source": [
    "def pagewatcher(waitingtime = 90, step = 5, link = \"collecte.io\", driver = driver) :\n",
    "    \"\"\"This function looks \"\"\"\n",
    "    time0 = time.time()\n",
    "    while time.time() - time0 < waitingtime :\n",
    "        try : \n",
    "            lydia = driver.find_element(By.CSS_SELECTOR, \"a[href*='\" + link + \"']\").click()\n",
    "            print(\"the link is clicked on\")#Here we would call the lydia form filler function but we need to make it work together first\n",
    "            m = 1\n",
    "            break #if we find the link, stop looking for it \n",
    "        except NoSuchElementException :\n",
    "            print(\"The link you provided was not found.\")\n",
    "            m = 2\n",
    "            driver.refresh() #if we don't refresh, we won't see the new posts\n",
    "        time.sleep(step)\n",
    "    if m == 1 :\n",
    "        print(\"it seems like we can complete the form\")\n",
    "    elif m == 2 : \n",
    "        print(\"The link was never found\")"
   ]
  },
  {
   "cell_type": "code",
   "execution_count": 62,
   "metadata": {},
   "outputs": [],
   "source": [
    "driver.refresh()"
   ]
  },
  {
   "cell_type": "code",
   "execution_count": 63,
   "metadata": {},
   "outputs": [
    {
     "name": "stdout",
     "output_type": "stream",
     "text": [
      "The link you provided was not found.\n",
      "The link you provided was not found.\n",
      "The link you provided was not found.\n",
      "The link you provided was not found.\n",
      "the link is clicked on\n",
      "it seems like we can complete the form\n"
     ]
    }
   ],
   "source": [
    "pagewatcher()"
   ]
  },
  {
   "attachments": {},
   "cell_type": "markdown",
   "metadata": {},
   "source": [
    "Ok, this works so well !"
   ]
  },
  {
   "cell_type": "code",
   "execution_count": 55,
   "metadata": {},
   "outputs": [],
   "source": [
    "driver.close()"
   ]
  },
  {
   "cell_type": "code",
   "execution_count": null,
   "metadata": {},
   "outputs": [],
   "source": []
  }
 ],
 "metadata": {
  "kernelspec": {
   "display_name": "Python 3.10.6 64-bit",
   "language": "python",
   "name": "python3"
  },
  "language_info": {
   "codemirror_mode": {
    "name": "ipython",
    "version": 3
   },
   "file_extension": ".py",
   "mimetype": "text/x-python",
   "name": "python",
   "nbconvert_exporter": "python",
   "pygments_lexer": "ipython3",
   "version": "3.10.6"
  },
  "orig_nbformat": 4,
  "vscode": {
   "interpreter": {
    "hash": "aee8b7b246df8f9039afb4144a1f6fd8d2ca17a180786b69acc140d282b71a49"
   }
  }
 },
 "nbformat": 4,
 "nbformat_minor": 2
}
