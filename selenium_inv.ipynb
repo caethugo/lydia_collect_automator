{
 "cells": [
  {
   "cell_type": "markdown",
   "metadata": {},
   "source": [
    "# Web scraping"
   ]
  },
  {
   "cell_type": "markdown",
   "metadata": {},
   "source": [
    "# First example\n",
    "## Importation of module parts "
   ]
  },
  {
   "cell_type": "code",
   "execution_count": 1,
   "metadata": {},
   "outputs": [],
   "source": [
    "from selenium import webdriver\n",
    "from selenium.webdriver.common.keys import Keys #used to simulate some keyboard keys (Alt, Tab, etc.)\n",
    "from selenium.webdriver.common.by import By #used to locate elements on website"
   ]
  },
  {
   "cell_type": "markdown",
   "metadata": {},
   "source": [
    "## Accessing a URL\n",
    "We access a URL with the `get()` method. "
   ]
  },
  {
   "cell_type": "code",
   "execution_count": 2,
   "metadata": {},
   "outputs": [
    {
     "name": "stderr",
     "output_type": "stream",
     "text": [
      "/var/folders/f9/pyjz1fyn319c79776sblqzp00000gn/T/ipykernel_8414/3130617002.py:1: DeprecationWarning: executable_path has been deprecated, please pass in a Service object\n",
      "  driver = webdriver.Chrome(executable_path=\"~/Desktop/proj/chromedriver\") #creates a chrome web driver instance\n"
     ]
    }
   ],
   "source": [
    "driver = webdriver.Chrome(executable_path=\"~/Desktop/proj/chromedriver\") #creates a chrome web driver instance \n",
    "driver.get(\"http://www.python.org\") #navigate to this URL, wait until it is loaded\n",
    "assert \"Python\" in driver.title #check if python is in the title"
   ]
  },
  {
   "cell_type": "markdown",
   "metadata": {},
   "source": [
    "## Getting things done"
   ]
  },
  {
   "cell_type": "code",
   "execution_count": null,
   "metadata": {},
   "outputs": [],
   "source": [
    "elem = driver.find_element(By.NAME, \"q\") #finds element from its name attribute\n",
    "elem.clear() #we clear all potential text in the input element\n",
    "elem.send_keys(\"pycon\") #then we type our things\n",
    "elem.send_keys(Keys.RETURN) #and we execute\n",
    "assert \"No results found.\" not in driver.page_source #to be sure that something is found\n",
    "driver.close() #the close method closes the tab. Here there is only one so it's equivalent to the quit() method"
   ]
  },
  {
   "cell_type": "code",
   "execution_count": 3,
   "metadata": {},
   "outputs": [],
   "source": [
    "driver.close() #When our operations are over, we need to close the driver. "
   ]
  },
  {
   "cell_type": "markdown",
   "metadata": {},
   "source": [
    "## Finding elements\n",
    "\n",
    "-  In order to locate an element like the following : `<input type=\"text\" name=\"passwd\" id=\"passwd-id\" />`,  we can use all these different commands : \n",
    "\n",
    "``` \n",
    "element = driver.find_element(By.ID, \"passwd-id\")\n",
    "element = driver.find_element(By.NAME, \"passwd\")\n",
    "element = driver.find_element(By.XPATH, \"//input[@id='passwd-id']\")\n",
    "element = driver.find_element(By.CSS_SELECTOR, \"input#passwd-id\")\n",
    "```"
   ]
  },
  {
   "cell_type": "markdown",
   "metadata": {},
   "source": [
    "## Interacting with elements\n",
    "-  One can input some text into an element : \n",
    "`element.send_keys(\"some text\")`\n",
    "\n",
    "-  Text parts append themselves and do not automatically clear themselves. Then, we need to use the `clear()` method. \n",
    "\n",
    "- We can navigate through the driver using special keys : \n",
    "```\n",
    "element.send_keys(\" and some\", Keys.ARROW_DOWN)\n",
    "```"
   ]
  },
  {
   "cell_type": "markdown",
   "metadata": {},
   "source": [
    "## About forms\n",
    "-  Further than with just text inputs, one can interact with options for example : \n",
    "```\n",
    "element = driver.find_element(By.XPATH, \"//select[@name='name']\")\n",
    "all_options = element.find_elements(By.TAG_NAME, \"option\")\n",
    "for option in all_options:\n",
    "    print(\"Value is: %s\" % option.get_attribute(\"value\"))\n",
    "    option.click()\n",
    "```\n",
    "-  One can unselect elements : \n",
    "```\n",
    "select = Select(driver.find_element(By.ID, 'id'))\n",
    "select.deselect_all()\n",
    "```\n",
    "\n",
    "-  The `selenium.webdriver.support.ui` package includes specific useful methods for Select objects. \n",
    "```\n",
    "#A few examples\n",
    "select = Select(driver.find_element(By.NAME, 'name'))\n",
    "select.select_by_index(index)\n",
    "select.select_by_visible_text(\"text\")\n",
    "select.select_by_value(value)\n",
    "```\n",
    "-  We can access all selected options for specific drivers as follow : \n",
    "```\n",
    "select = Select(driver.find_element(By.XPATH, \"//select[@name='name']\"))\n",
    "all_selected_options = select.all_selected_options\n",
    "```\n",
    "\n",
    "We can, in the contrary, unselect all elements from a `SELECT` object: \n",
    "```\n",
    "select = Select(driver.find_element(By.ID, 'selector'))\n",
    "select.deselect_all()\n",
    "```\n",
    "One can access all selected options via the followiing command : `options = select.options`\n",
    "\n",
    "Eventually, there are different methods to submit a form : \n",
    "\n",
    "-  One can do it manually assuming the submit button is identified : `#driver.find_element_by_id(\"submit\").click()` \n",
    "\n",
    "-  Or let python try to find the enclosing form and submit it, with : `element.submit()`"
   ]
  },
  {
   "cell_type": "markdown",
   "metadata": {},
   "source": [
    "# Form example : \n",
    "\n",
    "Let's try to automate the answer to Lydia collect links. We got two examples : \n",
    "\n",
    "-  The form for a paintball competition : https://collecte.io/paintball-inter-assos-2091521/fr\n",
    "\n",
    "-  The form for the famous escape week : https://collecte.io/shotgun-escape-week-1987144/fr"
   ]
  },
  {
   "cell_type": "markdown",
   "metadata": {},
   "source": [
    "# Paintball\n",
    "\n",
    "## Accessing URL"
   ]
  },
  {
   "cell_type": "code",
   "execution_count": 9,
   "metadata": {},
   "outputs": [],
   "source": [
    "from selenium import webdriver\n",
    "from selenium.webdriver.common.keys import Keys #used to simulate some keyboard keys (Alt, Tab, etc.)\n",
    "from selenium.webdriver.common.by import By #used to locate elements on website"
   ]
  },
  {
   "cell_type": "code",
   "execution_count": 14,
   "metadata": {},
   "outputs": [
    {
     "name": "stderr",
     "output_type": "stream",
     "text": [
      "/var/folders/f9/pyjz1fyn319c79776sblqzp00000gn/T/ipykernel_8414/768396232.py:1: DeprecationWarning: executable_path has been deprecated, please pass in a Service object\n",
      "  driver = webdriver.Chrome(executable_path=\"~/Desktop/proj/chromedriver\") #creates a chrome web driver instance\n"
     ]
    }
   ],
   "source": [
    "driver = webdriver.Chrome(executable_path=\"~/Desktop/proj/chromedriver\") #creates a chrome web driver instance \n",
    "driver.get(\"https://collecte.io/paintball-inter-assos-2091521/fr\") #navigate to this URL, wait until it is loaded"
   ]
  },
  {
   "cell_type": "markdown",
   "metadata": {},
   "source": [
    "The general expression to locate elements by their Xpath is as follows : `XPath = //tagname[@Attribute=’Value’]`"
   ]
  },
  {
   "cell_type": "code",
   "execution_count": 15,
   "metadata": {},
   "outputs": [],
   "source": [
    "#Example with non generic method\n",
    "paint_name = \"//*[@id='val1']\" #not general...\n",
    "element = driver.find_element(By.XPATH, paint_name)\n"
   ]
  },
  {
   "cell_type": "markdown",
   "metadata": {},
   "source": [
    "## We'll try to get all inputs completed step by step: \n",
    "\n",
    "-  We'll first create the driver"
   ]
  },
  {
   "cell_type": "code",
   "execution_count": 92,
   "metadata": {},
   "outputs": [
    {
     "name": "stderr",
     "output_type": "stream",
     "text": [
      "/var/folders/f9/pyjz1fyn319c79776sblqzp00000gn/T/ipykernel_8414/768396232.py:1: DeprecationWarning: executable_path has been deprecated, please pass in a Service object\n",
      "  driver = webdriver.Chrome(executable_path=\"~/Desktop/proj/chromedriver\") #creates a chrome web driver instance\n"
     ]
    }
   ],
   "source": [
    "driver = webdriver.Chrome(executable_path=\"~/Desktop/proj/chromedriver\") #creates a chrome web driver instance \n",
    "driver.get(\"https://collecte.io/paintball-inter-assos-2091521/fr\") #navigate to this URL, wait until it is loaded"
   ]
  },
  {
   "cell_type": "markdown",
   "metadata": {},
   "source": [
    "-  Then, we'll get all labels elements in a list"
   ]
  },
  {
   "cell_type": "code",
   "execution_count": 93,
   "metadata": {},
   "outputs": [],
   "source": [
    "path = '//div/label'\n",
    "labels = driver.find_elements(By.XPATH, path)"
   ]
  },
  {
   "cell_type": "markdown",
   "metadata": {},
   "source": [
    "-  Then, we need a dictionary with all elements and their attribute"
   ]
  },
  {
   "cell_type": "code",
   "execution_count": 86,
   "metadata": {},
   "outputs": [],
   "source": [
    "dic = {\n",
    "    'Nom' : 'Caetano',\n",
    "    'Prénom' : 'Hugo',\n",
    "    'Numéro de téléphone' : '0619372524',\n",
    "    'Adresse email' : 'hugocaetano78800@gmail.com',\n",
    "    'Asso' : 'BDX'\n",
    "}"
   ]
  },
  {
   "cell_type": "code",
   "execution_count": 87,
   "metadata": {},
   "outputs": [],
   "source": [
    "def completer(dic, labels):\n",
    "    \"\"\"The completer function completes all fields from the dictionary in the elements wich are linked to the \n",
    "    labels list's elements. If there is no field that corresponds to an element in dic, it won't return an error \n",
    "    message. Then, 'mieux vaut trop que pas assez'\"\"\"\n",
    "    for i in list(dic.keys()) :\n",
    "        for j in labels:\n",
    "            path_j = \"//*[@id='\" + j.get_attribute('for') + \"']\"\n",
    "            element_j = driver.find_element(By.XPATH, path_j) #getting the element associated with the j-th label\n",
    "            if i in j.text:\n",
    "             element_j.clear() #we clear all potential text in the input element\n",
    "             attrib_ij = dic.get(i)\n",
    "             element_j.send_keys(attrib_ij)    "
   ]
  },
  {
   "cell_type": "code",
   "execution_count": 94,
   "metadata": {},
   "outputs": [],
   "source": [
    "completer(dic, labels) "
   ]
  },
  {
   "cell_type": "markdown",
   "metadata": {},
   "source": [
    "We now have all our wanted fields completed. Let's **click on the submit button.**"
   ]
  },
  {
   "cell_type": "code",
   "execution_count": 95,
   "metadata": {},
   "outputs": [],
   "source": [
    "submit = driver.find_element(By.ID, 'submit-state-lydia') #finding the submit button\n",
    "submit.click()"
   ]
  },
  {
   "cell_type": "code",
   "execution_count": 96,
   "metadata": {},
   "outputs": [],
   "source": [
    "driver.close()"
   ]
  },
  {
   "cell_type": "markdown",
   "metadata": {},
   "source": [
    "# Escape Week\n",
    "\n",
    "## Accessing URL"
   ]
  },
  {
   "cell_type": "code",
   "execution_count": 20,
   "metadata": {},
   "outputs": [
    {
     "name": "stderr",
     "output_type": "stream",
     "text": [
      "/var/folders/f9/pyjz1fyn319c79776sblqzp00000gn/T/ipykernel_38079/1080256045.py:1: DeprecationWarning: executable_path has been deprecated, please pass in a Service object\n",
      "  driver2 = webdriver.Chrome(executable_path=\"~/Desktop/proj/chromedriver\")\n"
     ]
    }
   ],
   "source": [
    "driver2 = webdriver.Chrome(executable_path=\"~/Desktop/proj/chromedriver\")\n",
    "driver2.get(\"https://collecte.io/shotgun-escape-week-1987144/fr\")"
   ]
  },
  {
   "cell_type": "markdown",
   "metadata": {},
   "source": [
    "## Getting things done"
   ]
  },
  {
   "cell_type": "code",
   "execution_count": 12,
   "metadata": {},
   "outputs": [
    {
     "ename": "NameError",
     "evalue": "name 'driver2' is not defined",
     "output_type": "error",
     "traceback": [
      "\u001b[0;31m---------------------------------------------------------------------------\u001b[0m",
      "\u001b[0;31mNameError\u001b[0m                                 Traceback (most recent call last)",
      "\u001b[1;32m/Users/hugocaetano/Desktop/lydia_collect_automator/webscrap.ipynb Cellule 23\u001b[0m in \u001b[0;36m<cell line: 1>\u001b[0;34m()\u001b[0m\n\u001b[0;32m----> <a href='vscode-notebook-cell:/Users/hugocaetano/Desktop/lydia_collect_automator/webscrap.ipynb#X30sZmlsZQ%3D%3D?line=0'>1</a>\u001b[0m ew_nom \u001b[39m=\u001b[39m driver2\u001b[39m.\u001b[39mfind_element(By\u001b[39m.\u001b[39mXPATH, \u001b[39m\"\u001b[39m\u001b[39m//label[text()=\u001b[39m\u001b[39m'\u001b[39m\u001b[39mNom\u001b[39m\u001b[39m'\u001b[39m\u001b[39m]//parent::div//input\u001b[39m\u001b[39m\"\u001b[39m) \u001b[39m#getting element\u001b[39;00m\n\u001b[1;32m      <a href='vscode-notebook-cell:/Users/hugocaetano/Desktop/lydia_collect_automator/webscrap.ipynb#X30sZmlsZQ%3D%3D?line=1'>2</a>\u001b[0m ew_nom\u001b[39m.\u001b[39msend_keys(\u001b[39m\"\u001b[39m\u001b[39mCAETANO\u001b[39m\u001b[39m\"\u001b[39m)\n",
      "\u001b[0;31mNameError\u001b[0m: name 'driver2' is not defined"
     ]
    }
   ],
   "source": [
    "ew_nom = driver2.find_element(By.XPATH, \"//label[text()='Nom']//parent::div//input\") #getting element\n",
    "ew_nom.send_keys(\"CAETANO\")"
   ]
  },
  {
   "cell_type": "markdown",
   "metadata": {},
   "source": [
    "## The end"
   ]
  },
  {
   "cell_type": "code",
   "execution_count": 24,
   "metadata": {},
   "outputs": [],
   "source": [
    "driver2.close()"
   ]
  },
  {
   "cell_type": "markdown",
   "metadata": {},
   "source": [
    "These little experiments were pretty useful. I feel ready to write the script. I just need to make a last test. "
   ]
  },
  {
   "cell_type": "code",
   "execution_count": null,
   "metadata": {},
   "outputs": [],
   "source": []
  }
 ],
 "metadata": {
  "kernelspec": {
   "display_name": "Python 3.9.12 ('base')",
   "language": "python",
   "name": "python3"
  },
  "language_info": {
   "codemirror_mode": {
    "name": "ipython",
    "version": 3
   },
   "file_extension": ".py",
   "mimetype": "text/x-python",
   "name": "python",
   "nbconvert_exporter": "python",
   "pygments_lexer": "ipython3",
   "version": "3.9.12"
  },
  "orig_nbformat": 4,
  "vscode": {
   "interpreter": {
    "hash": "dcf4af17562eeb53ef143539da559a33e2f66ff0e7e3d9137883e45629e5db4e"
   }
  }
 },
 "nbformat": 4,
 "nbformat_minor": 2
}
