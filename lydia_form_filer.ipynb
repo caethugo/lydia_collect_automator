{
 "cells": [
  {
   "cell_type": "markdown",
   "metadata": {},
   "source": [
    "# Web scraping"
   ]
  },
  {
   "cell_type": "markdown",
   "metadata": {},
   "source": [
    "# First example\n",
    "## Importation of module parts "
   ]
  },
  {
   "cell_type": "code",
   "execution_count": 1,
   "metadata": {},
   "outputs": [],
   "source": [
    "from selenium import webdriver\n",
    "from selenium.webdriver.common.keys import Keys #used to simulate some keyboard keys (Alt, Tab, etc.)\n",
    "from selenium.webdriver.common.by import By #used to locate elements on website"
   ]
  },
  {
   "cell_type": "markdown",
   "metadata": {},
   "source": [
    "## Accessing a URL\n",
    "We access a URL with the `get()` method. "
   ]
  },
  {
   "cell_type": "code",
   "execution_count": 2,
   "metadata": {},
   "outputs": [
    {
     "name": "stderr",
     "output_type": "stream",
     "text": [
      "/var/folders/f9/pyjz1fyn319c79776sblqzp00000gn/T/ipykernel_1431/3130617002.py:1: DeprecationWarning: executable_path has been deprecated, please pass in a Service object\n",
      "  driver = webdriver.Chrome(executable_path=\"~/Desktop/proj/chromedriver\") #creates a chrome web driver instance\n"
     ]
    }
   ],
   "source": [
    "driver = webdriver.Chrome(executable_path=\"~/Desktop/proj/chromedriver\") #creates a chrome web driver instance \n",
    "driver.get(\"http://www.python.org\") #navigate to this URL, wait until it is loaded\n",
    "assert \"Python\" in driver.title #check if python is in the title"
   ]
  },
  {
   "cell_type": "markdown",
   "metadata": {},
   "source": [
    "## Getting things done"
   ]
  },
  {
   "cell_type": "code",
   "execution_count": null,
   "metadata": {},
   "outputs": [],
   "source": [
    "elem = driver.find_element(By.NAME, \"q\") #finds element from its name attribute\n",
    "elem.clear() #we clear all potential text in the input element\n",
    "elem.send_keys(\"pycon\") #then we type our things\n",
    "elem.send_keys(Keys.RETURN) #and we execute\n",
    "assert \"No results found.\" not in driver.page_source #to be sure that something is found\n",
    "driver.close() #the close method closes the tab. Here there is only one so it's equivalent to the quit() method"
   ]
  },
  {
   "cell_type": "code",
   "execution_count": 3,
   "metadata": {},
   "outputs": [],
   "source": [
    "driver.close() #When our operations are over, we need to close the driver. "
   ]
  },
  {
   "cell_type": "markdown",
   "metadata": {},
   "source": [
    "## Finding elements\n",
    "\n",
    "-  In order to locate an element like the following : `<input type=\"text\" name=\"passwd\" id=\"passwd-id\" />`,  we can use all these different commands : \n",
    "\n",
    "``` \n",
    "element = driver.find_element(By.ID, \"passwd-id\")\n",
    "element = driver.find_element(By.NAME, \"passwd\")\n",
    "element = driver.find_element(By.XPATH, \"//input[@id='passwd-id']\")\n",
    "element = driver.find_element(By.CSS_SELECTOR, \"input#passwd-id\")\n",
    "```"
   ]
  },
  {
   "cell_type": "markdown",
   "metadata": {},
   "source": [
    "## Interacting with elements\n",
    "-  One can input some text into an element : \n",
    "`element.send_keys(\"some text\")`\n",
    "\n",
    "-  Text parts append themselves and do not automatically clear themselves. Then, we need to use the `clear()` method. \n",
    "\n",
    "- We can navigate through the driver using special keys : \n",
    "```\n",
    "element.send_keys(\" and some\", Keys.ARROW_DOWN)\n",
    "```"
   ]
  },
  {
   "cell_type": "markdown",
   "metadata": {},
   "source": [
    "## About forms\n",
    "-  Further than with just text inputs, one can interact with options for example : \n",
    "```\n",
    "element = driver.find_element(By.XPATH, \"//select[@name='name']\")\n",
    "all_options = element.find_elements(By.TAG_NAME, \"option\")\n",
    "for option in all_options:\n",
    "    print(\"Value is: %s\" % option.get_attribute(\"value\"))\n",
    "    option.click()\n",
    "```\n",
    "-  One can unselect elements : \n",
    "```\n",
    "select = Select(driver.find_element(By.ID, 'id'))\n",
    "select.deselect_all()\n",
    "```\n",
    "\n",
    "-  The `selenium.webdriver.support.ui` package includes specific useful methods for Select objects. \n",
    "```\n",
    "#A few examples\n",
    "select = Select(driver.find_element(By.NAME, 'name'))\n",
    "select.select_by_index(index)\n",
    "select.select_by_visible_text(\"text\")\n",
    "select.select_by_value(value)\n",
    "```\n",
    "-  We can access all selected options for specific drivers as follow : \n",
    "```\n",
    "select = Select(driver.find_element(By.XPATH, \"//select[@name='name']\"))\n",
    "all_selected_options = select.all_selected_options\n",
    "```\n",
    "\n",
    "We can, in the contrary, unselect all elements from a `SELECT` object: \n",
    "```\n",
    "select = Select(driver.find_element(By.ID, 'selector'))\n",
    "select.deselect_all()\n",
    "```\n",
    "One can access all selected options via the followiing command : `options = select.options`\n",
    "\n",
    "Eventually, there are different methods to submit a form : \n",
    "\n",
    "-  One can do it manually assuming the submit button is identified : `#driver.find_element_by_id(\"submit\").click()` \n",
    "\n",
    "-  Or let python try to find the enclosing form and submit it, with : `element.submit()`"
   ]
  },
  {
   "cell_type": "markdown",
   "metadata": {},
   "source": [
    "# Form example : \n",
    "\n",
    "Let's try to automate the answer to Lydia collect links. We got two examples : \n",
    "\n",
    "-  The form for a paintball competition : https://collecte.io/paintball-inter-assos-2091521/fr\n",
    "\n",
    "-  The form for the famous escape week : https://collecte.io/shotgun-escape-week-1987144/fr"
   ]
  },
  {
   "cell_type": "markdown",
   "metadata": {},
   "source": [
    "# Paintball\n",
    "\n",
    "## Accessing URL"
   ]
  },
  {
   "cell_type": "code",
   "execution_count": 9,
   "metadata": {},
   "outputs": [],
   "source": [
    "from selenium import webdriver\n",
    "from selenium.webdriver.common.keys import Keys #used to simulate some keyboard keys (Alt, Tab, etc.)\n",
    "from selenium.webdriver.common.by import By #used to locate elements on website"
   ]
  },
  {
   "cell_type": "code",
   "execution_count": 4,
   "metadata": {},
   "outputs": [],
   "source": [
    "driver = webdriver.Chrome(executable_path=\"~/Desktop/proj/chromedriver\") #creates a chrome web driver instance \n",
    "driver.get(\"https://collecte.io/paintball-inter-assos-2091521/fr\") #navigate to this URL, wait until it is loaded"
   ]
  },
  {
   "cell_type": "markdown",
   "metadata": {},
   "source": [
    "The general expression to locate elements by their Xpath is as follows : `XPath = //tagname[@Attribute=’Value’]`"
   ]
  },
  {
   "cell_type": "code",
   "execution_count": 15,
   "metadata": {},
   "outputs": [],
   "source": [
    "#Example with non generic method\n",
    "paint_name = \"//*[@id='val1']\" #not general...\n",
    "element = driver.find_element(By.XPATH, paint_name)\n"
   ]
  },
  {
   "cell_type": "markdown",
   "metadata": {},
   "source": [
    "## We'll try to get all inputs completed step by step: \n",
    "\n",
    "-  We'll first create the driver"
   ]
  },
  {
   "cell_type": "code",
   "execution_count": 92,
   "metadata": {},
   "outputs": [
    {
     "name": "stderr",
     "output_type": "stream",
     "text": [
      "/var/folders/f9/pyjz1fyn319c79776sblqzp00000gn/T/ipykernel_8414/768396232.py:1: DeprecationWarning: executable_path has been deprecated, please pass in a Service object\n",
      "  driver = webdriver.Chrome(executable_path=\"~/Desktop/proj/chromedriver\") #creates a chrome web driver instance\n"
     ]
    }
   ],
   "source": [
    "driver = webdriver.Chrome(executable_path=\"~/Desktop/proj/chromedriver\") #creates a chrome web driver instance \n",
    "driver.get(\"https://collecte.io/paintball-inter-assos-2091521/fr\") #navigate to this URL, wait until it is loaded"
   ]
  },
  {
   "cell_type": "markdown",
   "metadata": {},
   "source": [
    "-  Then, we'll get all labels elements in a list"
   ]
  },
  {
   "cell_type": "code",
   "execution_count": 93,
   "metadata": {},
   "outputs": [],
   "source": [
    "path = '//div/label'\n",
    "labels = driver.find_elements(By.XPATH, path)"
   ]
  },
  {
   "cell_type": "markdown",
   "metadata": {},
   "source": [
    "-  Then, we need a dictionary with all elements and their attribute"
   ]
  },
  {
   "cell_type": "code",
   "execution_count": 3,
   "metadata": {},
   "outputs": [],
   "source": [
    "dic = {\n",
    "    'Nom' : 'Caetano',\n",
    "    'Prénom' : 'Hugo',\n",
    "    'Numéro de téléphone' : '0619372524',\n",
    "    'Adresse email' : 'hugocaetano78800@gmail.com',\n",
    "    'Asso' : 'BDX'\n",
    "}"
   ]
  },
  {
   "cell_type": "code",
   "execution_count": 5,
   "metadata": {},
   "outputs": [],
   "source": [
    "def completer(dic, labels):\n",
    "    \"\"\"The completer function completes all fields from the dictionary in the elements wich are linked to the \n",
    "    labels list's elements. If there is no field that corresponds to an element in dic, it won't return an error \n",
    "    message. Then, 'mieux vaut trop que pas assez'\"\"\"\n",
    "    for i in list(dic.keys()) :\n",
    "        for j in labels:\n",
    "            path_j = \"//*[@id='\" + j.get_attribute('for') + \"']\"\n",
    "            element_j = driver.find_element(By.XPATH, path_j) #getting the element associated with the j-th label\n",
    "            if i in j.text:\n",
    "             element_j.clear() #we clear all potential text in the input element\n",
    "             attrib_ij = dic.get(i)\n",
    "             element_j.send_keys(attrib_ij)    "
   ]
  },
  {
   "cell_type": "code",
   "execution_count": 94,
   "metadata": {},
   "outputs": [],
   "source": [
    "completer(dic, labels) "
   ]
  },
  {
   "cell_type": "markdown",
   "metadata": {},
   "source": [
    "We now have all our wanted fields completed. Let's **click on the submit button.**"
   ]
  },
  {
   "cell_type": "code",
   "execution_count": 95,
   "metadata": {},
   "outputs": [],
   "source": [
    "submit = driver.find_element(By.ID, 'submit-state-lydia') #finding the submit button\n",
    "submit.click()"
   ]
  },
  {
   "cell_type": "markdown",
   "metadata": {},
   "source": [
    "# Complete set of options\n",
    "\n",
    "-  There are various types of answers on a Lydia collect. Here we were able to complete some basic text inputs. Now, let's try to complete multiple option questions. \n",
    "\n",
    "-  If, at the end of our completion, there are still some inputs left, we will want to input some random things inside them in order to submit the file. "
   ]
  },
  {
   "cell_type": "markdown",
   "metadata": {},
   "source": [
    "We'll use this complete collect to try our code : https://collecte.io/test-pour-bot-lydia-2225285/fr"
   ]
  },
  {
   "cell_type": "code",
   "execution_count": 3,
   "metadata": {},
   "outputs": [
    {
     "name": "stderr",
     "output_type": "stream",
     "text": [
      "/var/folders/f9/pyjz1fyn319c79776sblqzp00000gn/T/ipykernel_11502/2801577401.py:1: DeprecationWarning: executable_path has been deprecated, please pass in a Service object\n",
      "  driver = webdriver.Chrome(executable_path=\"~/Desktop/proj/chromedriver\") #creates a chrome web driver instance\n"
     ]
    }
   ],
   "source": [
    "driver = webdriver.Chrome(executable_path=\"~/Desktop/proj/chromedriver\") #creates a chrome web driver instance \n",
    "driver.get(\"https://collecte.io/test-pour-bot-lydia-2225285/fr\") #navigate to this URL, wait until it is loaded\") #navigate to this URL, wait until it is loaded"
   ]
  },
  {
   "cell_type": "markdown",
   "metadata": {},
   "source": [
    "We can start by :\n",
    "\n",
    "-  getting all elements with a label\n",
    "-  completing all the basic fields "
   ]
  },
  {
   "cell_type": "code",
   "execution_count": 6,
   "metadata": {},
   "outputs": [],
   "source": [
    "path = '//div/label'\n",
    "labels = driver.find_elements(By.XPATH, path) #getting elements\n",
    "\n",
    "dic = {\n",
    "    'Nom' : 'Caetano',\n",
    "    'Prénom' : 'Hugo',\n",
    "    'Numéro de téléphone' : '0619372524',\n",
    "    'Adresse email' : 'hugocaetano78800@gmail.com',\n",
    "    'Asso' : 'BDX'\n",
    "} #listing the fields to complete\n",
    "\n",
    "completer(dic=dic, labels=labels)#completing the basic fields !"
   ]
  },
  {
   "cell_type": "markdown",
   "metadata": {},
   "source": [
    "This works well, there are three things left to do: \n",
    "\n",
    "-  Add some slider keys and values that we know we will have to complete\n",
    "-  Add some code to auto complete with the first option an empty slider\n",
    "-  Add some code to auto complete with random text an empty text field"
   ]
  },
  {
   "cell_type": "markdown",
   "metadata": {},
   "source": [
    "## Slider key and attribute completion"
   ]
  },
  {
   "cell_type": "markdown",
   "metadata": {},
   "source": [
    "Let's start investigating. We'll then build a completer-like function."
   ]
  },
  {
   "cell_type": "code",
   "execution_count": 39,
   "metadata": {},
   "outputs": [
    {
     "name": "stderr",
     "output_type": "stream",
     "text": [
      "/var/folders/f9/pyjz1fyn319c79776sblqzp00000gn/T/ipykernel_14020/2801577401.py:1: DeprecationWarning: executable_path has been deprecated, please pass in a Service object\n",
      "  driver = webdriver.Chrome(executable_path=\"~/Desktop/proj/chromedriver\") #creates a chrome web driver instance\n"
     ]
    }
   ],
   "source": [
    "driver = webdriver.Chrome(executable_path=\"~/Desktop/proj/chromedriver\") #creates a chrome web driver instance \n",
    "driver.get(\"https://collecte.io/test-pour-bot-lydia-2225285/fr\") #navigate to this URL, wait until it is loaded\") #navigate to this URL, wait until it is loaded"
   ]
  },
  {
   "cell_type": "code",
   "execution_count": 59,
   "metadata": {},
   "outputs": [],
   "source": [
    "path = '//div/label'\n",
    "elements = driver.find_elements(By.XPATH, path)"
   ]
  },
  {
   "cell_type": "markdown",
   "metadata": {},
   "source": [
    "Actually a select input is very similar to a text input in a Lydia form.\n",
    "\n",
    "It's just that the input tag is now a select tag with various option tags"
   ]
  },
  {
   "cell_type": "code",
   "execution_count": 10,
   "metadata": {},
   "outputs": [],
   "source": [
    "elements[4].get_attribute('for') #Here we have our relevant id\n",
    "option_path = \"//*[@id='val5']\"\n",
    "selector = driver.find_element(By.XPATH, option_path)\n",
    "navette_path = \"//option[@value='Navette 20h']\"\n",
    "navette = selector.find_element(By.XPATH, navette_path)\n",
    "navette.click()"
   ]
  },
  {
   "cell_type": "markdown",
   "metadata": {},
   "source": [
    "Okkkk, well this works. Now this is a strict usage because if the option doesn't have the exact value we're inputting, nothing will happen.\n",
    "\n",
    "I think that one good solution would be to provide one quick bot but with strict input names needed, and a slower bot which would for example compute an accuracy score for all inputs to see which one is the nearest to our input, and then complete it with our given attribute. \n",
    "\n",
    "Let's finish the simple version. "
   ]
  },
  {
   "cell_type": "markdown",
   "metadata": {},
   "source": [
    "Actually, we just need to input the selector name and its attribute in our entry dictionary ! Let's try it. "
   ]
  },
  {
   "cell_type": "code",
   "execution_count": 83,
   "metadata": {},
   "outputs": [],
   "source": [
    "new_dic = {\n",
    "    'Nom' : 'Caetano',\n",
    "    'Prénom' : 'Hugo',\n",
    "    'Numéro de téléphone' : '0619372524',\n",
    "    'Adresse email' : 'hugocaetano78800@gmail.com',\n",
    "    'Asso' : 'BDX',\n",
    "    'Choix du tarif' : 'Navette 20h',\n",
    "    'Un petit mot chiant ?' : 'Non ça ira'\n",
    "} #listing the fields to complete\n",
    "\n",
    "path = '//div/label'\n",
    "elements = driver.find_elements(By.XPATH, path)"
   ]
  },
  {
   "cell_type": "markdown",
   "metadata": {},
   "source": [
    "Actually, we just need one or two more lines in our function ! One way to differentiate a scrolling input from a text input is to check is .text value"
   ]
  },
  {
   "cell_type": "code",
   "execution_count": 86,
   "metadata": {},
   "outputs": [],
   "source": [
    "def all_completer(dic, elements):\n",
    "    \"\"\"The completer function completes all fields from the dictionary in the elements wich are linked to the \n",
    "    labels list's elements. If there is no field that corresponds to an element in dic, it won't return an error \n",
    "    message. Then, 'mieux vaut trop que pas assez'\"\"\"\n",
    "    for i in list(dic.keys()) :\n",
    "        for j in elements:\n",
    "            path_j = \"//*[@id='\" + j.get_attribute('for') + \"']\"\n",
    "            element_j = driver.find_element(By.XPATH, path_j) #getting the element associated with the j-th label\n",
    "            if i in j.text:\n",
    "                if not \"\\n\" in element_j.text : #it is a text input\n",
    "                    element_j.clear() #we clear all potential text in the input element\n",
    "                    attrib_ij = dic.get(i)\n",
    "                    element_j.send_keys(attrib_ij)  \n",
    "                elif \"\\n\" in element_j.text : #it is a scrolling menu \n",
    "                    attrib_ij = dic.get(i) #it is the value we want to select\n",
    "                    menu_el_path_i = \"//option[@value='\" + attrib_ij + \"'\" #we find the clickable element\n",
    "                    option_i = element_j.find_element(By.XPATH, navette_path) #we need to find IN the selector we already have\n",
    "                    option_i.click()"
   ]
  },
  {
   "cell_type": "code",
   "execution_count": 92,
   "metadata": {},
   "outputs": [
    {
     "name": "stdout",
     "output_type": "stream",
     "text": [
      "[<selenium.webdriver.remote.webelement.WebElement (session=\"149c88e036b6e79c35aa710df3aa548b\", element=\"6ddeddd4-d2e2-4a7f-882f-c74eb80e07c0\")>, <selenium.webdriver.remote.webelement.WebElement (session=\"149c88e036b6e79c35aa710df3aa548b\", element=\"27a66b8a-d72e-40bf-a301-b49f4c1bfc8e\")>, <selenium.webdriver.remote.webelement.WebElement (session=\"149c88e036b6e79c35aa710df3aa548b\", element=\"1618dbe2-a918-4195-bb93-ebc7cded9ea7\")>, <selenium.webdriver.remote.webelement.WebElement (session=\"149c88e036b6e79c35aa710df3aa548b\", element=\"143cfef9-d178-4f13-ae90-736aa4fc75ff\")>]\n"
     ]
    }
   ],
   "source": [
    "all_completer(dic=dic, elements=elements)#completing the basic fields !"
   ]
  },
  {
   "cell_type": "markdown",
   "metadata": {},
   "source": [
    "When we are done, we have to close the driver. "
   ]
  },
  {
   "cell_type": "code",
   "execution_count": 47,
   "metadata": {},
   "outputs": [],
   "source": [
    "driver.close()"
   ]
  },
  {
   "cell_type": "markdown",
   "metadata": {},
   "source": [
    "## Note :\n",
    "This code works ! The advantage of our function is that an input field with not the exact name, but only containing the key we give in our dictionary would work : "
   ]
  },
  {
   "cell_type": "code",
   "execution_count": 116,
   "metadata": {},
   "outputs": [
    {
     "name": "stderr",
     "output_type": "stream",
     "text": [
      "/var/folders/f9/pyjz1fyn319c79776sblqzp00000gn/T/ipykernel_14020/688708132.py:11: DeprecationWarning: executable_path has been deprecated, please pass in a Service object\n",
      "  driver = webdriver.Chrome(executable_path=\"/Users/hugocaetano/Desktop/lydia_collect_automator/chromedriver\") #creates a chrome web driver instance\n"
     ]
    }
   ],
   "source": [
    "incomplete_dic = {\n",
    "    'Nom' : 'Caetano',\n",
    "    'Prénom' : 'Hugo',\n",
    "    'Numéro' : '0619372524', #not Numéro de téléphone\n",
    "    'mail' : 'hugocaetano78800@gmail.com', #Not adresse e-mail\n",
    "    'Asso' : 'BDX',\n",
    "    'Choix du tarif' : '20h', #Not navette 20h\n",
    "    'Un petit mot chiant ?' : 'Non ça ira'\n",
    "} #listing the fields to complete\n",
    "path = '//div/label'\n",
    "driver = webdriver.Chrome(executable_path=\"/Users/hugocaetano/Desktop/lydia_collect_automator/chromedriver\") #creates a chrome web driver instance \n",
    "driver.get(\"https://collecte.io/test-pour-bot-lydia-2225285/fr\") #navigate to this URL, wait until it is loaded\n",
    "elements = driver.find_elements(By.XPATH, path)"
   ]
  },
  {
   "cell_type": "markdown",
   "metadata": {},
   "source": [
    "It works ! Then we just need to complete vaquant fields. "
   ]
  },
  {
   "cell_type": "code",
   "execution_count": null,
   "metadata": {},
   "outputs": [],
   "source": [
    "all_completer(dic=incomplete_dic, elements=elements)"
   ]
  },
  {
   "cell_type": "code",
   "execution_count": 87,
   "metadata": {},
   "outputs": [],
   "source": [
    "driver.close()"
   ]
  },
  {
   "cell_type": "markdown",
   "metadata": {},
   "source": [
    "## Auto-complete unrecognized text fields"
   ]
  },
  {
   "cell_type": "markdown",
   "metadata": {},
   "source": [
    "We need to keep track of which label we have modified, and then at the end of our completer we will complete randomly the not-modified fields. "
   ]
  },
  {
   "cell_type": "code",
   "execution_count": 15,
   "metadata": {},
   "outputs": [],
   "source": [
    "def true_completer(dic, elements):\n",
    "    \"\"\"The completer function completes all fields from the dictionary in the elements wich are linked to the \n",
    "    labels list's elements. If there is no field that corresponds to an element in dic, it won't return an error \n",
    "    message. Then, 'mieux vaut trop que pas assez'\"\"\"\n",
    "    was_completed = []\n",
    "    for i in list(dic.keys()) :\n",
    "        for j in elements:\n",
    "            path_j = \"//*[@id='\" + j.get_attribute('for') + \"']\"\n",
    "            element_j = driver.find_element(By.XPATH, path_j) #getting the element associated with the j-th label\n",
    "            if i in j.text:\n",
    "                if not \"\\n\" in element_j.text : #it is a text input\n",
    "                    element_j.clear() #we clear all potential text in the input element\n",
    "                    attrib_ij = dic.get(i)\n",
    "                    element_j.send_keys(attrib_ij)  \n",
    "                elif \"\\n\" in element_j.text : #it is a scrolling menu \n",
    "                    attrib_ij = dic.get(i) #it is the value we want to select\n",
    "                    menu_el_path_i = \"//option[@value='\" + attrib_ij + \"'\" #we find the clickable element\n",
    "                    option_i = element_j.find_element(By.XPATH, navette_path) #we need to find IN the selector we already have\n",
    "                    option_i.click()\n",
    "                was_completed.append(j)\n",
    "    return was_completed"
   ]
  },
  {
   "cell_type": "code",
   "execution_count": 117,
   "metadata": {},
   "outputs": [],
   "source": [
    "was_comp = true_completer(dic=dic, elements=elements)#completing the basic fields !"
   ]
  },
  {
   "cell_type": "code",
   "execution_count": 119,
   "metadata": {},
   "outputs": [],
   "source": [
    "uncomp = list(set(elements) - set(was_comp))"
   ]
  },
  {
   "cell_type": "code",
   "execution_count": 126,
   "metadata": {},
   "outputs": [],
   "source": [
    "uncomp[2].text #champ de texte non complété\n",
    "path_uncomp = \"//*[@id='\" + uncomp[2].get_attribute('for') + \"']\"\n",
    "element_uncomp = driver.find_element(By.XPATH, path_uncomp) #on doit choper son input "
   ]
  },
  {
   "cell_type": "code",
   "execution_count": 128,
   "metadata": {},
   "outputs": [],
   "source": [
    "element_uncomp.send_keys(\"je ne sais pas\")"
   ]
  },
  {
   "cell_type": "markdown",
   "metadata": {},
   "source": [
    "ok donc pour les champs de texte ça va être simple. réglons le pb des menus déroulants. "
   ]
  },
  {
   "cell_type": "code",
   "execution_count": 131,
   "metadata": {},
   "outputs": [
    {
     "data": {
      "text/plain": [
       "'Choix du tarif'"
      ]
     },
     "execution_count": 131,
     "metadata": {},
     "output_type": "execute_result"
    }
   ],
   "source": [
    "uncomp[0].text correspond à un menu déroulant. "
   ]
  },
  {
   "cell_type": "markdown",
   "metadata": {},
   "source": [
    "On doit encore une fois choper le sélecteur ! "
   ]
  },
  {
   "cell_type": "code",
   "execution_count": 140,
   "metadata": {},
   "outputs": [],
   "source": [
    "first_option = \"//option[2]\" #First option is always Sélectionner\n",
    "option_i = uncomp[0].find_element(By.XPATH, first_option) #we need to find IN the selector we already have"
   ]
  },
  {
   "cell_type": "code",
   "execution_count": 141,
   "metadata": {},
   "outputs": [
    {
     "data": {
      "text/plain": [
       "'Navette 20h'"
      ]
     },
     "execution_count": 141,
     "metadata": {},
     "output_type": "execute_result"
    }
   ],
   "source": [
    "option_i.text"
   ]
  },
  {
   "cell_type": "code",
   "execution_count": 143,
   "metadata": {},
   "outputs": [],
   "source": [
    "\n",
    "option_i.click()"
   ]
  },
  {
   "cell_type": "code",
   "execution_count": 144,
   "metadata": {},
   "outputs": [],
   "source": [
    "driver.close()"
   ]
  },
  {
   "cell_type": "markdown",
   "metadata": {},
   "source": [
    "Alright then I think we have all the theory. Now, we just need to build that last function :)"
   ]
  },
  {
   "cell_type": "code",
   "execution_count": 193,
   "metadata": {},
   "outputs": [],
   "source": [
    "def true_completer(dic, elements):\n",
    "    \"\"\"The completer function completes all fields from the dictionary in the elements wich are linked to the \n",
    "    labels list's elements. If there is no field that corresponds to an element in dic, it won't return an error \n",
    "    message. Then, 'mieux vaut trop que pas assez'\"\"\"\n",
    "    was_completed = []\n",
    "    for i in list(dic.keys()) :\n",
    "        for j in elements:\n",
    "            path_j = \"//*[@id='\" + j.get_attribute('for') + \"']\"\n",
    "            element_j = driver.find_element(By.XPATH, path_j) #getting the element associated with the j-th label\n",
    "            if i in j.text:\n",
    "                if not \"\\n\" in element_j.text : #it is a text input\n",
    "                    element_j.clear() #we clear all potential text in the input element\n",
    "                    attrib_ij = dic.get(i)\n",
    "                    element_j.send_keys(attrib_ij)  \n",
    "                elif \"\\n\" in element_j.text : #it is a scrolling menu \n",
    "                    attrib_ij = dic.get(i) #it is the value we want to select\n",
    "                    menu_el_path_i = \"//option[@value='\" + attrib_ij + \"'\" #we find the clickable element\n",
    "                    option_i = element_j.find_element(By.XPATH, navette_path) #we need to find IN the selector we already have\n",
    "                    option_i.click()\n",
    "                was_completed.append(j)\n",
    "    uncomp = list(set(elements) - set(was_completed)) #all untouched elements\n",
    "    for k in uncomp : #We'll complete all empty fields ! Else we won't be able to sumbit the form\n",
    "        path_k = \"//*[@id='\" + k.get_attribute('for') + \"']\"\n",
    "        uncomp_k = driver.find_element(By.XPATH, path_k)\n",
    "        if not \"\\n\" in uncomp_k.text : #it is a text input\n",
    "                    uncomp_k.clear() #we clear all potential text in the input element\n",
    "                    uncomp_k.send_keys(\"Je ne sais pas !\")  \n",
    "        elif \"\\n\" in uncomp_k.text : #it is a scrolling menu \n",
    "            first_option_path_k = path_k + \"/option[2]\" #it's safe bc first option is title and even if no title, two options at minimum\n",
    "            first_option_k = uncomp_k.find_element(By.XPATH, first_option_path_k)\n",
    "            first_option_k.click()"
   ]
  },
  {
   "cell_type": "markdown",
   "metadata": {},
   "source": [
    "Well well well, let's try this. "
   ]
  },
  {
   "cell_type": "code",
   "execution_count": 196,
   "metadata": {},
   "outputs": [
    {
     "name": "stderr",
     "output_type": "stream",
     "text": [
      "/var/folders/f9/pyjz1fyn319c79776sblqzp00000gn/T/ipykernel_14020/688708132.py:11: DeprecationWarning: executable_path has been deprecated, please pass in a Service object\n",
      "  driver = webdriver.Chrome(executable_path=\"/Users/hugocaetano/Desktop/lydia_collect_automator/chromedriver\") #creates a chrome web driver instance\n"
     ]
    }
   ],
   "source": [
    "incomplete_dic = {\n",
    "    'Nom' : 'Caetano',\n",
    "    'Prénom' : 'Hugo',\n",
    "    'Numéro' : '0619372524', #not Numéro de téléphone\n",
    "    'mail' : 'hugocaetano78800@gmail.com', #Not adresse e-mail\n",
    "    'Asso' : 'BDX',\n",
    "    'Choix du tarif' : '20h', #Not navette 20h\n",
    "    'Un petit mot chiant ?' : 'Non ça ira'\n",
    "} #listing the fields to complete\n",
    "path = '//div/label'\n",
    "driver = webdriver.Chrome(executable_path=\"/Users/hugocaetano/Desktop/lydia_collect_automator/chromedriver\") #creates a chrome web driver instance \n",
    "driver.get(\"https://collecte.io/test-pour-bot-lydia-2225285/fr\") #navigate to this URL, wait until it is loaded\n",
    "elements = driver.find_elements(By.XPATH, path)"
   ]
  },
  {
   "cell_type": "code",
   "execution_count": 197,
   "metadata": {},
   "outputs": [
    {
     "name": "stdout",
     "output_type": "stream",
     "text": [
      "k : question random\n",
      "uncomp : Sélectionner\n",
      "réponse 1 super drôle\n",
      "réponse 2 moins drôle\n",
      "first_option : réponse 1 super drôle\n"
     ]
    }
   ],
   "source": [
    "true_completer(dic = incomplete_dic, elements = elements)"
   ]
  },
  {
   "cell_type": "code",
   "execution_count": 172,
   "metadata": {},
   "outputs": [],
   "source": [
    "k = elements[5]\n",
    "path_k = k.get_attribute('for')"
   ]
  },
  {
   "cell_type": "code",
   "execution_count": 174,
   "metadata": {},
   "outputs": [],
   "source": [
    "path_k = \"//*[@id='\" + path_k + \"']\""
   ]
  },
  {
   "cell_type": "code",
   "execution_count": 175,
   "metadata": {},
   "outputs": [
    {
     "data": {
      "text/plain": [
       "\"//*[@id='val6']\""
      ]
     },
     "execution_count": 175,
     "metadata": {},
     "output_type": "execute_result"
    }
   ],
   "source": [
    "path_k"
   ]
  },
  {
   "cell_type": "code",
   "execution_count": 179,
   "metadata": {},
   "outputs": [],
   "source": [
    "uncompk = k.find_element(By.XPATH, path_k)"
   ]
  },
  {
   "cell_type": "code",
   "execution_count": 190,
   "metadata": {},
   "outputs": [],
   "source": [
    "first_option_path_k = \"//*[@id='val6']/option[2]\" "
   ]
  },
  {
   "cell_type": "code",
   "execution_count": 191,
   "metadata": {},
   "outputs": [],
   "source": [
    "#it's safe bc first option is title and even if no title, two options at minimum\n",
    "first_option_k = uncompk.find_element(By.XPATH, first_option_path_k)"
   ]
  },
  {
   "cell_type": "code",
   "execution_count": 192,
   "metadata": {},
   "outputs": [
    {
     "data": {
      "text/plain": [
       "'réponse 1 super drôle'"
      ]
     },
     "execution_count": 192,
     "metadata": {},
     "output_type": "execute_result"
    }
   ],
   "source": [
    "first_option_k.text"
   ]
  },
  {
   "cell_type": "code",
   "execution_count": null,
   "metadata": {},
   "outputs": [],
   "source": [
    "uncompk = k.find_element(By.XPATH, path_k)"
   ]
  },
  {
   "cell_type": "code",
   "execution_count": null,
   "metadata": {},
   "outputs": [],
   "source": [
    "path_k = \"//*[@id='\" + k.get_attribute('for') + \"']\"\n",
    "uncomp_k = driver.find_element(By.XPATH, path_k)"
   ]
  },
  {
   "cell_type": "code",
   "execution_count": 160,
   "metadata": {},
   "outputs": [
    {
     "data": {
      "text/plain": [
       "'question random'"
      ]
     },
     "execution_count": 160,
     "metadata": {},
     "output_type": "execute_result"
    }
   ],
   "source": [
    "elements[-2].text"
   ]
  },
  {
   "cell_type": "code",
   "execution_count": 195,
   "metadata": {},
   "outputs": [],
   "source": [
    "driver.close()"
   ]
  },
  {
   "cell_type": "markdown",
   "metadata": {},
   "source": [
    "Okkkkkkkkkkk we have it !!! "
   ]
  },
  {
   "attachments": {},
   "cell_type": "markdown",
   "metadata": {},
   "source": [
    "Experiments on load options : "
   ]
  },
  {
   "cell_type": "code",
   "execution_count": 2,
   "metadata": {},
   "outputs": [],
   "source": [
    "from selenium import webdriver\n",
    "from selenium.webdriver.common.keys import Keys #used to simulate some keyboard keys (Alt, Tab, etc.)\n",
    "from selenium.webdriver.common.by import By #used to locate elements on website\n",
    "import time\n",
    "from selenium.webdriver.chrome.options import Options #We need this to prevent notifications and pop-ups\n",
    "from selenium.common.exceptions import NoSuchElementException #to try and catch the error we need to import it !\n",
    "from selenium.webdriver.common.desired_capabilities import DesiredCapabilities "
   ]
  },
  {
   "cell_type": "code",
   "execution_count": 3,
   "metadata": {},
   "outputs": [
    {
     "name": "stderr",
     "output_type": "stream",
     "text": [
      "/var/folders/f9/pyjz1fyn319c79776sblqzp00000gn/T/ipykernel_31832/2011300824.py:1: DeprecationWarning: executable_path has been deprecated, please pass in a Service object\n",
      "  driver = webdriver.Chrome(executable_path=\"~/Desktop/proj/chromedriver\") #creates a chrome web driver instance\n"
     ]
    }
   ],
   "source": [
    "driver = webdriver.Chrome(executable_path=\"~/Desktop/proj/chromedriver\") #creates a chrome web driver instance "
   ]
  },
  {
   "cell_type": "code",
   "execution_count": 4,
   "metadata": {},
   "outputs": [],
   "source": [
    "driver.get(\"https://collecte.io/simulation-de-sat-2231239/fr\")"
   ]
  },
  {
   "cell_type": "code",
   "execution_count": 5,
   "metadata": {},
   "outputs": [],
   "source": [
    "caps = DesiredCapabilities().CHROME\n",
    "caps[\"pageLoadStrategy\"] = \"none\"   # Just wait until page is interactive"
   ]
  },
  {
   "cell_type": "code",
   "execution_count": 6,
   "metadata": {},
   "outputs": [
    {
     "name": "stderr",
     "output_type": "stream",
     "text": [
      "/var/folders/f9/pyjz1fyn319c79776sblqzp00000gn/T/ipykernel_31832/3018020159.py:1: DeprecationWarning: executable_path has been deprecated, please pass in a Service object\n",
      "  driver2 = webdriver.Chrome(desired_capabilities=caps, executable_path='/Users/hugocaetano/Desktop/lydia_collect_automator/chromedriver')\n"
     ]
    }
   ],
   "source": [
    "driver2 = webdriver.Chrome(desired_capabilities=caps, executable_path='/Users/hugocaetano/Desktop/lydia_collect_automator/chromedriver')"
   ]
  },
  {
   "cell_type": "code",
   "execution_count": 7,
   "metadata": {},
   "outputs": [],
   "source": [
    "driver2.get(\"https://collecte.io/simulation-de-sat-2231239/fr\")"
   ]
  },
  {
   "cell_type": "code",
   "execution_count": 8,
   "metadata": {},
   "outputs": [],
   "source": [
    "path = '//div/label'\n",
    "elements = driver.find_elements(By.XPATH, path)"
   ]
  },
  {
   "cell_type": "code",
   "execution_count": 9,
   "metadata": {},
   "outputs": [],
   "source": [
    "path = '//div/label'\n",
    "elements = driver2.find_elements(By.XPATH, path)"
   ]
  },
  {
   "cell_type": "code",
   "execution_count": 14,
   "metadata": {},
   "outputs": [],
   "source": [
    "driver.close(); driver2.close()"
   ]
  },
  {
   "cell_type": "code",
   "execution_count": 12,
   "metadata": {},
   "outputs": [
    {
     "name": "stderr",
     "output_type": "stream",
     "text": [
      "/var/folders/f9/pyjz1fyn319c79776sblqzp00000gn/T/ipykernel_31832/1555669487.py:1: DeprecationWarning: executable_path has been deprecated, please pass in a Service object\n",
      "  driver = webdriver.Chrome(executable_path=\"~/Desktop/proj/chromedriver\") #creates a chrome web driver instance\n"
     ]
    }
   ],
   "source": [
    "driver = webdriver.Chrome(executable_path=\"~/Desktop/proj/chromedriver\") #creates a chrome web driver instance \n",
    "driver.get(\"https://collecte.io/simulation-de-sat-2231239/fr\")\n",
    "path = '//div/label'\n",
    "elements = driver.find_elements(By.XPATH, path)"
   ]
  },
  {
   "cell_type": "code",
   "execution_count": 13,
   "metadata": {},
   "outputs": [
    {
     "name": "stderr",
     "output_type": "stream",
     "text": [
      "/var/folders/f9/pyjz1fyn319c79776sblqzp00000gn/T/ipykernel_31832/2516863239.py:1: DeprecationWarning: executable_path has been deprecated, please pass in a Service object\n",
      "  driver2 = webdriver.Chrome(desired_capabilities=caps, executable_path='/Users/hugocaetano/Desktop/lydia_collect_automator/chromedriver')\n"
     ]
    }
   ],
   "source": [
    "driver2 = webdriver.Chrome(desired_capabilities=caps, executable_path='/Users/hugocaetano/Desktop/lydia_collect_automator/chromedriver')\n",
    "driver2.get(\"https://collecte.io/simulation-de-sat-2231239/fr\")\n",
    "path = '//div/label'\n",
    "elements = driver2.find_elements(By.XPATH, path)"
   ]
  },
  {
   "attachments": {},
   "cell_type": "markdown",
   "metadata": {},
   "source": [
    "from just this step, the none option actually makes sense. "
   ]
  },
  {
   "cell_type": "code",
   "execution_count": 17,
   "metadata": {},
   "outputs": [],
   "source": [
    "import functions as fun \n",
    "dic = { #Here you have to give your personal pieces of information that could be required in the form\n",
    "    'Nom' : 'Caetano',\n",
    "    'Prénom' : 'Hugo',\n",
    "    'Numéro de téléphone' : '0619372524',\n",
    "    'Adresse email' : 'hugocaetano78800@gmail.com',\n",
    "    'Asso' : 'BDX',\n",
    "    'Numéro étudiant' : '20213566',\n",
    "    'Promo' : '3A'\n",
    "}"
   ]
  },
  {
   "cell_type": "code",
   "execution_count": 18,
   "metadata": {},
   "outputs": [
    {
     "name": "stderr",
     "output_type": "stream",
     "text": [
      "/var/folders/f9/pyjz1fyn319c79776sblqzp00000gn/T/ipykernel_31832/2811574236.py:1: DeprecationWarning: executable_path has been deprecated, please pass in a Service object\n",
      "  driver = webdriver.Chrome(executable_path=\"~/Desktop/proj/chromedriver\") #creates a chrome web driver instance\n"
     ]
    }
   ],
   "source": [
    "driver = webdriver.Chrome(executable_path=\"~/Desktop/proj/chromedriver\") #creates a chrome web driver instance \n",
    "driver.get(\"https://collecte.io/simulation-de-sat-2231239/fr\")\n",
    "fun.true_completer(driver = driver, dic = dic)\n",
    "driver.close()"
   ]
  },
  {
   "cell_type": "code",
   "execution_count": 19,
   "metadata": {},
   "outputs": [
    {
     "name": "stderr",
     "output_type": "stream",
     "text": [
      "/var/folders/f9/pyjz1fyn319c79776sblqzp00000gn/T/ipykernel_31832/198693512.py:1: DeprecationWarning: executable_path has been deprecated, please pass in a Service object\n",
      "  driver2 = webdriver.Chrome(desired_capabilities=caps, executable_path='/Users/hugocaetano/Desktop/lydia_collect_automator/chromedriver')\n"
     ]
    }
   ],
   "source": [
    "driver2 = webdriver.Chrome(desired_capabilities=caps, executable_path='/Users/hugocaetano/Desktop/lydia_collect_automator/chromedriver')\n",
    "driver2.get(\"https://collecte.io/simulation-de-sat-2231239/fr\")\n",
    "fun.true_completer(driver = driver2, dic = dic)\n",
    "driver2.close()"
   ]
  },
  {
   "attachments": {},
   "cell_type": "markdown",
   "metadata": {},
   "source": [
    "Ok, so my first solution was indeed working. "
   ]
  }
 ],
 "metadata": {
  "kernelspec": {
   "display_name": "Python 3.9.12 ('base')",
   "language": "python",
   "name": "python3"
  },
  "language_info": {
   "codemirror_mode": {
    "name": "ipython",
    "version": 3
   },
   "file_extension": ".py",
   "mimetype": "text/x-python",
   "name": "python",
   "nbconvert_exporter": "python",
   "pygments_lexer": "ipython3",
   "version": "3.10.6"
  },
  "orig_nbformat": 4,
  "vscode": {
   "interpreter": {
    "hash": "dcf4af17562eeb53ef143539da559a33e2f66ff0e7e3d9137883e45629e5db4e"
   }
  }
 },
 "nbformat": 4,
 "nbformat_minor": 2
}
